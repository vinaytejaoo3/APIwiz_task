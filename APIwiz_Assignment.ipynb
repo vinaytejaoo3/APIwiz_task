{
 "cells": [
  {
   "cell_type": "code",
   "execution_count": 1,
   "id": "5c1f2e5c",
   "metadata": {},
   "outputs": [],
   "source": [
    "import threading\n",
    "from collections import defaultdict, deque"
   ]
  },
  {
   "cell_type": "code",
   "execution_count": 2,
   "id": "1066d04d",
   "metadata": {},
   "outputs": [
    {
     "name": "stdout",
     "output_type": "stream",
     "text": [
      "Node-1\n",
      "Node-2\n",
      "Node-3\n",
      "Node-4\n",
      "Node-5\n",
      "5\n"
     ]
    }
   ],
   "source": [
    "def traverse_graph(vertex_map, edge_set):\n",
    "    graph = defaultdict(list)\n",
    "    in_degree = defaultdict(int)\n",
    "\n",
    "    # Build graph and in-degree map\n",
    "    for u, v in edge_set:\n",
    "        graph[u].append(v)\n",
    "        in_degree[v] += 1\n",
    "\n",
    "    # Find starting nodes (typically node 1)\n",
    "    queue = deque()\n",
    "    for node in vertex_map:\n",
    "        if in_degree[node] == 0:\n",
    "            queue.append(node)\n",
    "\n",
    "    visited = set()\n",
    "\n",
    "    def dfs(node):\n",
    "        if node in visited:\n",
    "            return\n",
    "        visited.add(node)\n",
    "        print(vertex_map[node])\n",
    "\n",
    "        # Prepare threads for parallel child execution\n",
    "        threads = []\n",
    "        for child in graph[node]:\n",
    "            in_degree[child] -= 1\n",
    "            if in_degree[child] == 0:\n",
    "                t = threading.Thread(target=dfs, args=(child,))\n",
    "                threads.append(t)\n",
    "                t.start()\n",
    "\n",
    "        for t in threads:\n",
    "            t.join()\n",
    "\n",
    "    # Start DFS from root (node 1)\n",
    "    dfs(1)\n",
    "\n",
    "    print(len(vertex_map))\n",
    "\n",
    "# Example input\n",
    "vertex_input = [\n",
    "    \"1:Node-1\",\n",
    "    \"2:Node-2\",\n",
    "    \"3:Node-3\",\n",
    "    \"4:Node-4\",\n",
    "    \"5:Node-5\"\n",
    "]\n",
    "edge_input = [\n",
    "    \"1:2\",\n",
    "    \"1:3\",\n",
    "    \"2:4\",\n",
    "    \"2:5\",\n",
    "    \"3:5\"\n",
    "]\n",
    "\n",
    "vertex_map = {int(line.split(\":\")[0]): line.split(\":\")[1] for line in vertex_input}\n",
    "edge_set = [tuple(map(int, line.split(\":\"))) for line in edge_input]\n",
    "\n",
    "traverse_graph(vertex_map, edge_set)"
   ]
  },
  {
   "cell_type": "code",
   "execution_count": null,
   "id": "c28df88c",
   "metadata": {},
   "outputs": [],
   "source": []
  }
 ],
 "metadata": {
  "kernelspec": {
   "display_name": "Python 3 (ipykernel)",
   "language": "python",
   "name": "python3"
  },
  "language_info": {
   "codemirror_mode": {
    "name": "ipython",
    "version": 3
   },
   "file_extension": ".py",
   "mimetype": "text/x-python",
   "name": "python",
   "nbconvert_exporter": "python",
   "pygments_lexer": "ipython3",
   "version": "3.9.7"
  }
 },
 "nbformat": 4,
 "nbformat_minor": 5
}
